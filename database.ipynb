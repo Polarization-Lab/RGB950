{
 "cells": [
  {
   "cell_type": "code",
   "execution_count": 2,
   "id": "894cf4f4",
   "metadata": {},
   "outputs": [
    {
     "ename": "ImportError",
     "evalue": "cannot import name 'create_db_connection' from 'SQL' (/Users/carolinehumphreys/SQL.py)",
     "output_type": "error",
     "traceback": [
      "\u001b[0;31m---------------------------------------------------------------------------\u001b[0m",
      "\u001b[0;31mImportError\u001b[0m                               Traceback (most recent call last)",
      "\u001b[0;32m<ipython-input-2-0f5c44d15a62>\u001b[0m in \u001b[0;36m<module>\u001b[0;34m\u001b[0m\n\u001b[1;32m      2\u001b[0m \u001b[0;32mimport\u001b[0m \u001b[0msys\u001b[0m\u001b[0;34m\u001b[0m\u001b[0;34m\u001b[0m\u001b[0m\n\u001b[1;32m      3\u001b[0m \u001b[0msys\u001b[0m\u001b[0;34m.\u001b[0m\u001b[0mpath\u001b[0m\u001b[0;34m.\u001b[0m\u001b[0minsert\u001b[0m\u001b[0;34m(\u001b[0m\u001b[0;36m0\u001b[0m\u001b[0;34m,\u001b[0m \u001b[0;34m'/Users/carolinehumphreys/SQL.py'\u001b[0m\u001b[0;34m)\u001b[0m\u001b[0;34m\u001b[0m\u001b[0;34m\u001b[0m\u001b[0m\n\u001b[0;32m----> 4\u001b[0;31m \u001b[0;32mfrom\u001b[0m \u001b[0mSQL\u001b[0m \u001b[0;32mimport\u001b[0m \u001b[0mcreate_db_connection\u001b[0m\u001b[0;34m,\u001b[0m \u001b[0mexecute_query\u001b[0m\u001b[0;34m\u001b[0m\u001b[0;34m\u001b[0m\u001b[0m\n\u001b[0m\u001b[1;32m      5\u001b[0m \u001b[0;32mimport\u001b[0m \u001b[0mh5py\u001b[0m\u001b[0;34m\u001b[0m\u001b[0;34m\u001b[0m\u001b[0m\n\u001b[1;32m      6\u001b[0m \u001b[0;32mimport\u001b[0m \u001b[0mdatetime\u001b[0m\u001b[0;34m\u001b[0m\u001b[0;34m\u001b[0m\u001b[0m\n",
      "\u001b[0;31mImportError\u001b[0m: cannot import name 'create_db_connection' from 'SQL' (/Users/carolinehumphreys/SQL.py)"
     ]
    }
   ],
   "source": [
    "import pandas as pd\n",
    "import sys\n",
    "sys.path.insert(0, '/Users/carolinehumphreys/SQL.py')\n",
    "from SQL import create_db_connection, execute_query\n",
    "import h5py\n",
    "import datetime\n",
    "import numpy as np"
   ]
  },
  {
   "cell_type": "code",
   "execution_count": 18,
   "id": "d30d244a",
   "metadata": {},
   "outputs": [],
   "source": [
    "#user_info\n",
    "pw = \"pass\"\n",
    "user = \"root\"\n",
    "db = \"test\""
   ]
  },
  {
   "cell_type": "code",
   "execution_count": 19,
   "id": "825397d5",
   "metadata": {},
   "outputs": [
    {
     "ename": "NameError",
     "evalue": "name 'create_db_connection' is not defined",
     "output_type": "error",
     "traceback": [
      "\u001b[0;31m---------------------------------------------------------------------------\u001b[0m",
      "\u001b[0;31mNameError\u001b[0m                                 Traceback (most recent call last)",
      "\u001b[0;32m<ipython-input-19-ad8d5a4db430>\u001b[0m in \u001b[0;36m<module>\u001b[0;34m\u001b[0m\n\u001b[1;32m      1\u001b[0m \u001b[0;31m#connect to IRCSP database\u001b[0m\u001b[0;34m\u001b[0m\u001b[0;34m\u001b[0m\u001b[0;34m\u001b[0m\u001b[0m\n\u001b[0;32m----> 2\u001b[0;31m \u001b[0mconnection\u001b[0m \u001b[0;34m=\u001b[0m \u001b[0mcreate_db_connection\u001b[0m\u001b[0;34m(\u001b[0m\u001b[0;34m\"localhost\"\u001b[0m\u001b[0;34m,\u001b[0m \u001b[0muser\u001b[0m\u001b[0;34m,\u001b[0m \u001b[0mpw\u001b[0m\u001b[0;34m,\u001b[0m \u001b[0mdb\u001b[0m\u001b[0;34m)\u001b[0m\u001b[0;34m\u001b[0m\u001b[0;34m\u001b[0m\u001b[0m\n\u001b[0m",
      "\u001b[0;31mNameError\u001b[0m: name 'create_db_connection' is not defined"
     ]
    }
   ],
   "source": [
    "#connect to database\n",
    "connection = create_db_connection(\"localhost\", user, pw, db)"
   ]
  },
  {
   "cell_type": "code",
   "execution_count": null,
   "id": "ae68fc9d",
   "metadata": {},
   "outputs": [],
   "source": []
  },
  {
   "cell_type": "code",
   "execution_count": 37,
   "id": "4b0febc0",
   "metadata": {},
   "outputs": [
    {
     "name": "stdout",
     "output_type": "stream",
     "text": [
      "25\n",
      "55\n",
      "40\n",
      "40\n",
      "25\n",
      "40\n",
      "55\n",
      "40\n",
      "10\n",
      "70\n",
      "40\n",
      "70\n",
      "10\n",
      "25\n",
      "55\n",
      "55\n",
      "10\n",
      "25\n",
      "70\n",
      "70\n",
      "10\n",
      "40\n",
      "55\n",
      "70\n",
      "25\n",
      "10\n",
      "25\n",
      "10\n",
      "70\n",
      "55\n",
      "55\n",
      "70\n",
      "70\n",
      "40\n",
      "10\n",
      "55\n",
      "25\n",
      "10\n",
      "70\n",
      "25\n",
      "10\n",
      "40\n",
      "70\n",
      "55\n",
      "10\n",
      "55\n",
      "70\n",
      "10\n",
      "25\n",
      "10\n",
      "25\n",
      "70\n",
      "40\n",
      "25\n",
      "40\n",
      "55\n",
      "25\n",
      "40\n",
      "55\n",
      "40\n",
      "55\n",
      "40\n",
      "40\n",
      "25\n",
      "40\n",
      "55\n",
      "40\n",
      "25\n",
      "10\n",
      "25\n",
      "10\n",
      "25\n",
      "70\n",
      "40\n",
      "55\n",
      "10\n",
      "70\n",
      "70\n",
      "55\n",
      "70\n",
      "25\n",
      "10\n",
      "25\n",
      "10\n",
      "70\n",
      "55\n",
      "40\n",
      "55\n",
      "70\n",
      "10\n"
     ]
    }
   ],
   "source": [
    "# inserting data into the database table\n",
    "def insertVariableIntoTable(date, sample, wavelength, shutter_speed, f_number, AOI, AOC):\n",
    "    \n",
    "    mysql_insert_with_param = \"\"\"INSERT INTO rgb950 (date,sample,wavelength,shutter_speed,f_number,AOI,AOC)\n",
    "                                VALUES\n",
    "                                (?, ?,?,?,?,?,?);\"\"\"\n",
    "    data_tuple = (date, sample, wavelength, shutter_speed, f_number, AOI, AOC)\n",
    "        \n",
    "\n",
    "# walking through and listing files\n",
    "import os\n",
    "\n",
    "# walk through a directory to get all the files in all of the directories\n",
    "path =r'/Users/carolinehumphreys/Desktop/Polarization Lab/001'\n",
    "for root, directories, files in os.walk(path, topdown=False):\n",
    "    for name in files:\n",
    "        #if name.endswith('.docx'):\n",
    "            # read through the doc and extract notes and description sections\n",
    "            #from docx import Document\n",
    "            #text = Document(name)\n",
    "            #print(len(Text.paragraphs), type(Text.paragraphs))\n",
    "            #print(Text.paragraphs[0].runs[0].text)\n",
    "            #string = ''\n",
    "            #for i in range(len(Text.paragraphs)):\n",
    "                #for j in range(len(Text.paragraphs[i].runs)):\n",
    "                    #string = \"\".join((string,Text.paragraphs[i].runs[i].text))\n",
    "        if name.endswith('.cmmi'):\n",
    "            # split the file names to extract data\n",
    "            date = name.rsplit(\"_\", 7)[0]\n",
    "            sample = name.rsplit(\"_\", 7)[1]\n",
    "            wavelength = name.rsplit(\"_\", 7)[2]\n",
    "            shutter_speed = name.rsplit(\"_\", 7)[3]\n",
    "            f_number = name.rsplit(\"_\", 7)[4]\n",
    "            AOI = name.rsplit(\"_\", 7)[5]\n",
    "            AOC = name.rsplit(\"_\", 7)[6]\n",
    "            print(AOI)\n",
    "            # inserting row of data\n",
    "            #insertVariableIntoTable(date, sample, wavelength, shutter_speed, f_number, AOI, AOC)\n",
    "        #print(name)\n",
    "    for name in directories:\n",
    "        #if name.endswith('.docx'):\n",
    "            # read through the doc and extract notes and description sections\n",
    "            #import docx\n",
    "            #text = docx.Document(TextPath)\n",
    "            #print(len(Text.paragraphs), type(Text.paragraphs))\n",
    "            #print(Text.paragraphs[0].runs[0].text)\n",
    "            #string = ''\n",
    "            #for i in range(len(Text.paragraphs)):\n",
    "                #for j in range(len(Text.paragraphs[i].runs)):\n",
    "                    #string = \"\".join((string, Text.paragraphs[i].runs[i].text))\n",
    "        if name.endswith('.cmmi'):\n",
    "            # split the file names to extract data\n",
    "            date = name.rsplit(\"_\", 7)[0]\n",
    "            sample = name.rsplit(\"_\", 7)[1]\n",
    "            wavelength = name.rsplit(\"_\", 7)[2]\n",
    "            shutter_speed = name.rsplit(\"_\", 7)[3]\n",
    "            f_number = name.rsplit(\"_\", 7)[4]\n",
    "            AOI = name.rsplit(\"_\", 7)[5]\n",
    "            AOC = name.rsplit(\"_\", 7)[6]\n",
    "            print(AOI)"
   ]
  },
  {
   "cell_type": "code",
   "execution_count": 40,
   "id": "194dd9e4",
   "metadata": {},
   "outputs": [
    {
     "ename": "NameError",
     "evalue": "name 'execute_query' is not defined",
     "output_type": "error",
     "traceback": [
      "\u001b[0;31m---------------------------------------------------------------------------\u001b[0m",
      "\u001b[0;31mNameError\u001b[0m                                 Traceback (most recent call last)",
      "\u001b[0;32m<ipython-input-40-d7b05738d093>\u001b[0m in \u001b[0;36m<module>\u001b[0;34m\u001b[0m\n\u001b[0;32m----> 1\u001b[0;31m \u001b[0mexecute_query\u001b[0m\u001b[0;34m(\u001b[0m\u001b[0msqlite_insert_with_param\u001b[0m\u001b[0;34m,\u001b[0m \u001b[0mdata_tuple\u001b[0m\u001b[0;34m)\u001b[0m\u001b[0;34m\u001b[0m\u001b[0;34m\u001b[0m\u001b[0m\n\u001b[0m",
      "\u001b[0;31mNameError\u001b[0m: name 'execute_query' is not defined"
     ]
    }
   ],
   "source": [
    "execute_query(mysql_insert_with_param, data_tuple)"
   ]
  },
  {
   "cell_type": "code",
   "execution_count": null,
   "id": "f77f2659",
   "metadata": {},
   "outputs": [],
   "source": []
  }
 ],
 "metadata": {
  "kernelspec": {
   "display_name": "Python 3",
   "language": "python",
   "name": "python3"
  },
  "language_info": {
   "codemirror_mode": {
    "name": "ipython",
    "version": 3
   },
   "file_extension": ".py",
   "mimetype": "text/x-python",
   "name": "python",
   "nbconvert_exporter": "python",
   "pygments_lexer": "ipython3",
   "version": "3.8.8"
  }
 },
 "nbformat": 4,
 "nbformat_minor": 5
}
